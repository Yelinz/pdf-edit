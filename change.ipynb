{
 "cells": [
  {
   "attachments": {},
   "cell_type": "markdown",
   "metadata": {},
   "source": [
    "Edit a pdf without leaving a trace\n",
    "maybe wont work with signed pdf or some other mechanism which generates an hash and checks it"
   ]
  },
  {
   "cell_type": "code",
   "execution_count": 1,
   "metadata": {},
   "outputs": [],
   "source": [
    "import re\n",
    "import zlib\n",
    "\n",
    "content = \"\"\n",
    "pdf = open(\"copy.pdf\", \"rb\").read()\n",
    "stream = re.compile(rb'.*?FlateDecode.*?stream(.*?)endstream', re.S)\n",
    "\n",
    "# extract and decompress text block from pdf\n",
    "# TODO: wont work for multiple text blocks\n",
    "for s in stream.findall(pdf):\n",
    "    try:\n",
    "        content = zlib.decompress(s)\n",
    "    except:\n",
    "        pass\n"
   ]
  },
  {
   "cell_type": "code",
   "execution_count": 8,
   "metadata": {},
   "outputs": [],
   "source": [
    "# convert binary to string (check if utf 8 can be used)\n",
    "split_content = content.decode(\"cp437\").split(\"\\n\")"
   ]
  },
  {
   "cell_type": "code",
   "execution_count": 29,
   "metadata": {},
   "outputs": [
    {
     "name": "stdout",
     "output_type": "stream",
     "text": [
      "117 q 0.000000 0.000000 0.000000 rg BT 0 Tr 0.000000 w ET BT 141.732283 693.549903 Td [(06.04.2023)] TJ ET Q\n",
      "267 q 0.000000 0.000000 0.000000 rg BT 0 Tr 0.000000 w ET BT 141.732283 634.246746 Td [(26.04.2023)] TJ ET Q\n",
      "610 q 0.000000 0.000000 0.000000 rg BT 0 Tr 0.000000 w ET BT 42.519685 511.351062 Td [(24 Monate Garantie \\(06.04.2023 - 06.04.2025\\))] TJ ET Q\n",
      "632 q 0.000000 0.000000 0.000000 rg BT 0 Tr 0.000000 w ET BT 283.464567 521.234922 Td [(06.04.2023)] TJ ET Q\n",
      "889 q 0.000000 0.000000 0.000000 rg BT 0 Tr 0.000000 w ET BT 283.464567 439.254599 Td [(06.04.2023 Gutschrift 35188525 eingel÷st)] TJ ET Q\n",
      "931 q 0.000000 0.000000 0.000000 rg BT 0 Tr 0.000000 w ET BT 283.464567 429.370740 Td [(06.04.2023 Zahlung geleistet)] TJ ET Q\n"
     ]
    }
   ],
   "source": [
    "# find strings which need to be replaced\n",
    "indexes = []\n",
    "for i, part in enumerate(split_content):\n",
    "    if \"6.04\" in part:\n",
    "        indexes.append(i)\n",
    "        print(i, part)"
   ]
  },
  {
   "cell_type": "code",
   "execution_count": 34,
   "metadata": {},
   "outputs": [
    {
     "name": "stdout",
     "output_type": "stream",
     "text": [
      "117 q 0.000000 0.000000 0.000000 rg BT 0 Tr 0.000000 w ET BT 141.732283 693.549903 Td [(17.04.2023)] TJ ET Q\n",
      "610 q 0.000000 0.000000 0.000000 rg BT 0 Tr 0.000000 w ET BT 42.519685 511.351062 Td [(24 Monate Garantie \\(17.04.2023 - 17.04.2025\\))] TJ ET Q\n",
      "632 q 0.000000 0.000000 0.000000 rg BT 0 Tr 0.000000 w ET BT 283.464567 521.234922 Td [(17.04.2023)] TJ ET Q\n",
      "889 q 0.000000 0.000000 0.000000 rg BT 0 Tr 0.000000 w ET BT 283.464567 439.254599 Td [(17.04.2023 Gutschrift 35188525 eingel÷st)] TJ ET Q\n",
      "931 q 0.000000 0.000000 0.000000 rg BT 0 Tr 0.000000 w ET BT 283.464567 429.370740 Td [(17.04.2023 Zahlung geleistet)] TJ ET Q\n"
     ]
    }
   ],
   "source": [
    "# replace the content\n",
    "for index in indexes:\n",
    "    split_content[index] = split_content[index].replace(\"06.04\", \"17.04\")\n",
    "    split_content[index] = split_content[index].replace(\"26.04\", \"07.05\")\n",
    "\n",
    "for i, part in enumerate(split_content):\n",
    "    if \"7.04\" in part:\n",
    "        print(i, part)"
   ]
  },
  {
   "cell_type": "code",
   "execution_count": 37,
   "metadata": {},
   "outputs": [],
   "source": [
    "\n",
    "# dump new content to binary file\n",
    "# remaining step: binary in file has to be copied into the pdf\n",
    "new_content = \"\\n\".join(split_content)\n",
    "out = zlib.compress(new_content.encode(\"cp437\"))\n",
    "with open(\"output.bin\", \"wb\") as f:\n",
    "    f.write(out)"
   ]
  }
 ],
 "metadata": {
  "kernelspec": {
   "display_name": "Python 3",
   "language": "python",
   "name": "python3"
  },
  "language_info": {
   "codemirror_mode": {
    "name": "ipython",
    "version": 3
   },
   "file_extension": ".py",
   "mimetype": "text/x-python",
   "name": "python",
   "nbconvert_exporter": "python",
   "pygments_lexer": "ipython3",
   "version": "3.10.6"
  },
  "orig_nbformat": 4
 },
 "nbformat": 4,
 "nbformat_minor": 2
}
